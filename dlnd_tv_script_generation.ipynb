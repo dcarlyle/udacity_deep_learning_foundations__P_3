{
 "cells": [
  {
   "cell_type": "markdown",
   "metadata": {
    "deletable": true,
    "editable": true
   },
   "source": [
    "# TV Script Generation\n",
    "In this project, you'll generate your own [Simpsons](https://en.wikipedia.org/wiki/The_Simpsons) TV scripts using RNNs.  You'll be using part of the [Simpsons dataset](https://www.kaggle.com/wcukierski/the-simpsons-by-the-data) of scripts from 27 seasons.  The Neural Network you'll build will generate a new TV script for a scene at [Moe's Tavern](https://simpsonswiki.com/wiki/Moe's_Tavern).\n",
    "## Get the Data\n",
    "The data is already provided for you.  You'll be using a subset of the original dataset.  It consists of only the scenes in Moe's Tavern.  This doesn't include other versions of the tavern, like \"Moe's Cavern\", \"Flaming Moe's\", \"Uncle Moe's Family Feed-Bag\", etc.."
   ]
  },
  {
   "cell_type": "code",
   "execution_count": 4,
   "metadata": {
    "collapsed": false,
    "deletable": true,
    "editable": true
   },
   "outputs": [
    {
     "name": "stdout",
     "output_type": "stream",
     "text": [
      "Python 3.5.2\r\n"
     ]
    }
   ],
   "source": [
    "!python -V"
   ]
  },
  {
   "cell_type": "code",
   "execution_count": 5,
   "metadata": {
    "collapsed": false,
    "deletable": true,
    "editable": true
   },
   "outputs": [
    {
     "name": "stdout",
     "output_type": "stream",
     "text": [
      "\u001b[31mDEPRECATION: The default format will switch to columns in the future. You can use --format=(legacy|columns) (or define a format=(legacy|columns) in your pip.conf under the [list] section) to disable this warning.\u001b[0m\r\n",
      "tensorflow-gpu (1.0.0)\r\n"
     ]
    }
   ],
   "source": [
    "!pip list | grep tensorflow"
   ]
  },
  {
   "cell_type": "code",
   "execution_count": 6,
   "metadata": {
    "collapsed": false,
    "deletable": true,
    "editable": true
   },
   "outputs": [],
   "source": [
    "\"\"\"\n",
    "DON'T MODIFY ANYTHING IN THIS CELL\n",
    "\"\"\"\n",
    "import helper\n",
    "\n",
    "data_dir = './data/simpsons/moes_tavern_lines.txt'\n",
    "text = helper.load_data(data_dir)\n",
    "# Ignore notice, since we don't use it for analysing the data\n",
    "text = text[81:]"
   ]
  },
  {
   "cell_type": "markdown",
   "metadata": {
    "deletable": true,
    "editable": true
   },
   "source": [
    "## Explore the Data\n",
    "Play around with `view_sentence_range` to view different parts of the data."
   ]
  },
  {
   "cell_type": "code",
   "execution_count": 7,
   "metadata": {
    "collapsed": false,
    "deletable": true,
    "editable": true
   },
   "outputs": [
    {
     "name": "stdout",
     "output_type": "stream",
     "text": [
      "Dataset Stats\n",
      "Roughly the number of unique words: 11492\n",
      "Number of scenes: 262\n",
      "Average number of sentences in each scene: 15.248091603053435\n",
      "Number of lines: 4257\n",
      "Average number of words in each line: 11.50434578341555\n",
      "\n",
      "The sentences 0 to 10:\n",
      "Moe_Szyslak: (INTO PHONE) Moe's Tavern. Where the elite meet to drink.\n",
      "Bart_Simpson: Eh, yeah, hello, is Mike there? Last name, Rotch.\n",
      "Moe_Szyslak: (INTO PHONE) Hold on, I'll check. (TO BARFLIES) Mike Rotch. Mike Rotch. Hey, has anybody seen Mike Rotch, lately?\n",
      "Moe_Szyslak: (INTO PHONE) Listen you little puke. One of these days I'm gonna catch you, and I'm gonna carve my name on your back with an ice pick.\n",
      "Moe_Szyslak: What's the matter Homer? You're not your normal effervescent self.\n",
      "Homer_Simpson: I got my problems, Moe. Give me another one.\n",
      "Moe_Szyslak: Homer, hey, you should not drink to forget your problems.\n",
      "Barney_Gumble: Yeah, you should only drink to enhance your social skills.\n",
      "\n",
      "\n"
     ]
    }
   ],
   "source": [
    "view_sentence_range = (0, 10)\n",
    "\n",
    "\"\"\"\n",
    "DON'T MODIFY ANYTHING IN THIS CELL\n",
    "\"\"\"\n",
    "import numpy as np\n",
    "\n",
    "print('Dataset Stats')\n",
    "print('Roughly the number of unique words: {}'.format(len({word: None for word in text.split()})))\n",
    "scenes = text.split('\\n\\n')\n",
    "print('Number of scenes: {}'.format(len(scenes)))\n",
    "sentence_count_scene = [scene.count('\\n') for scene in scenes]\n",
    "print('Average number of sentences in each scene: {}'.format(np.average(sentence_count_scene)))\n",
    "\n",
    "sentences = [sentence for scene in scenes for sentence in scene.split('\\n')]\n",
    "print('Number of lines: {}'.format(len(sentences)))\n",
    "word_count_sentence = [len(sentence.split()) for sentence in sentences]\n",
    "print('Average number of words in each line: {}'.format(np.average(word_count_sentence)))\n",
    "\n",
    "print()\n",
    "print('The sentences {} to {}:'.format(*view_sentence_range))\n",
    "print('\\n'.join(text.split('\\n')[view_sentence_range[0]:view_sentence_range[1]]))"
   ]
  },
  {
   "cell_type": "markdown",
   "metadata": {
    "deletable": true,
    "editable": true
   },
   "source": [
    "## Implement Preprocessing Functions\n",
    "The first thing to do to any dataset is preprocessing.  Implement the following preprocessing functions below:\n",
    "- Lookup Table\n",
    "- Tokenize Punctuation\n",
    "\n",
    "### Lookup Table\n",
    "To create a word embedding, you first need to transform the words to ids.  In this function, create two dictionaries:\n",
    "- Dictionary to go from the words to an id, we'll call `vocab_to_int`\n",
    "- Dictionary to go from the id to word, we'll call `int_to_vocab`\n",
    "\n",
    "Return these dictionaries in the following tuple `(vocab_to_int, int_to_vocab)`"
   ]
  },
  {
   "cell_type": "code",
   "execution_count": 8,
   "metadata": {
    "collapsed": false,
    "deletable": true,
    "editable": true
   },
   "outputs": [
    {
     "name": "stdout",
     "output_type": "stream",
     "text": [
      "Tests Passed\n"
     ]
    }
   ],
   "source": [
    "import numpy as np\n",
    "import problem_unittests as tests\n",
    "\n",
    "from collections import Counter\n",
    "\n",
    "def create_lookup_tables(text):\n",
    "    \"\"\"\n",
    "    Create lookup tables for vocabulary\n",
    "    :param text: The text of tv scripts split into words\n",
    "    :return: A tuple of dicts (vocab_to_int, int_to_vocab)\n",
    "    \"\"\"\n",
    "    # TODO: Implement Function\n",
    "    \n",
    "    #convert to str from list and split (space word ' ' with a delimita)\n",
    "    as_one = ' '.join(text) \n",
    "    \n",
    "    #count where each word first occurs...to create an index....\n",
    "    all_words = as_one.split()\n",
    "    \n",
    "    \n",
    "    all_words = text\n",
    "    counts = Counter(all_words)\n",
    "    \n",
    "    #get the unique words, and sort by most frequent\n",
    "    complete_vocab = sorted(counts, key=counts.get, reverse=True)\n",
    "\n",
    "    #for each word in the vocab give it a number, starting at 1 (so we leave ZERO free for NULL)\n",
    "    #vocab_to_int = {single_word: ii for ii, single_word in enumerate(complete_vocab, 1)}    \n",
    "    \n",
    "    #int_to_vocab = {ii: single_word for ii, single_word in enumerate(complete_vocab, 1)} \n",
    "    \n",
    "    \n",
    "    # using offset above causes an error \"train_loss = nan\" So not offsetting\n",
    "\n",
    "    vocab_to_int = {single_word: ii for ii, single_word in enumerate(complete_vocab)}    \n",
    "    \n",
    "    int_to_vocab = {ii: single_word for ii, single_word in enumerate(complete_vocab)} \n",
    "\n",
    "    return  vocab_to_int, int_to_vocab\n",
    "\n",
    "\n",
    "\"\"\"\n",
    "DON'T MODIFY ANYTHING IN THIS CELL THAT IS BELOW THIS LINE\n",
    "\"\"\"\n",
    "tests.test_create_lookup_tables(create_lookup_tables)"
   ]
  },
  {
   "cell_type": "code",
   "execution_count": 9,
   "metadata": {
    "collapsed": false,
    "deletable": true,
    "editable": true
   },
   "outputs": [
    {
     "name": "stdout",
     "output_type": "stream",
     "text": [
      "{'i': 20, 'bart_simpson': 36, 'an': 23, 'little': 24, 'moe_szyslak': 0, 'homer': 7, 'should': 8, 'hey': 12, \"you're\": 25, 'forget': 26, 'rotch': 1, 'you': 2, 'self': 27, 'mike': 3, 'pick': 28, 'got': 29, 'one': 9, 'lately': 31, 'of': 32, 'days': 33, 'my': 10, 'meet': 34, 'name': 11, 'problems': 19, 'not': 13, 'puke': 43, 'with': 35, 'me': 22, 'back': 37, 'carve': 38, 'these': 39, 'to': 5, 'hello': 40, 'the': 14, 'has': 42, 'drink': 6, 'eh': 44, 'gonna': 15, 'on': 16, 'where': 21, 'hold': 46, 'is': 50, \"moe's\": 48, 'elite': 49, 'whats': 47, 'give': 51, \"i'm\": 17, 'last': 52, 'skills': 53, 'there': 54, 'anybody': 45, 'another': 55, 'matter': 56, 'and': 57, 'barney_gumble': 41, 'normal': 58, 'yeah': 18, 'check': 60, 'homer_simpson': 70, 'catch': 61, 'effervescent': 59, 'tavern': 62, 'your': 4, \"i'll\": 63, 'social': 64, 'ice': 65, 'seen': 66, 'moe': 67, 'only': 30, 'listen': 69, 'enhance': 68}\n",
      ".........\n",
      "{'i': 20, 'bart_simpson': 36, 'an': 23, 'little': 24, 'moe_szyslak': 0, 'homer': 7, 'should': 8, 'hey': 12, \"you're\": 25, 'forget': 26, 'rotch': 1, 'you': 2, 'self': 27, 'mike': 3, 'pick': 28, 'got': 29, 'one': 9, 'lately': 31, 'of': 32, 'days': 33, 'my': 10, 'meet': 34, 'name': 11, 'problems': 19, 'not': 13, 'puke': 43, 'with': 35, 'me': 22, 'back': 37, 'carve': 38, 'these': 39, 'to': 5, 'hello': 40, 'the': 14, 'has': 42, 'drink': 6, 'eh': 44, 'gonna': 15, 'on': 16, 'where': 21, 'hold': 46, 'is': 50, \"moe's\": 48, 'elite': 49, 'whats': 47, 'give': 51, \"i'm\": 17, 'last': 52, 'skills': 53, 'there': 54, 'anybody': 45, 'another': 55, 'matter': 56, 'and': 57, 'barney_gumble': 41, 'normal': 58, 'yeah': 18, 'check': 60, 'homer_simpson': 70, 'catch': 61, 'effervescent': 59, 'tavern': 62, 'your': 4, \"i'll\": 63, 'social': 64, 'ice': 65, 'seen': 66, 'moe': 67, 'only': 30, 'listen': 69, 'enhance': 68}\n"
     ]
    }
   ],
   "source": [
    "test_text = '''\n",
    "Moe_Szyslak Moe's Tavern Where the elite meet to drink\n",
    "Bart_Simpson Eh yeah hello is Mike there Last name Rotch\n",
    "Moe_Szyslak Hold on I'll check Mike Rotch Mike Rotch Hey has anybody seen Mike Rotch lately\n",
    "Moe_Szyslak Listen you little puke One of these days I'm gonna catch you and I'm gonna carve my name on your back with an ice pick\n",
    "Moe_Szyslak Whats the matter Homer You're not your normal effervescent self\n",
    "Homer_Simpson I got my problems Moe Give me another one\n",
    "Moe_Szyslak Homer hey you should not drink to forget your problems\n",
    "Barney_Gumble Yeah you should only drink to enhance your social skills'''\n",
    "\n",
    "\n",
    "test_text = test_text.lower()\n",
    "test_text = test_text.split()\n",
    "vocab_to_int, int_to_vocab = create_lookup_tables(test_text)\n",
    "        \n",
    "print(vocab_to_int)\n",
    "print('.........')\n",
    "print(vocab_to_int)\n",
    "\n"
   ]
  },
  {
   "cell_type": "markdown",
   "metadata": {
    "deletable": true,
    "editable": true
   },
   "source": [
    "### Tokenize Punctuation\n",
    "We'll be splitting the script into a word array using spaces as delimiters.  However, punctuations like periods and exclamation marks make it hard for the neural network to distinguish between the word \"bye\" and \"bye!\".\n",
    "\n",
    "Implement the function `token_lookup` to return a dict that will be used to tokenize symbols like \"!\" into \"||Exclamation_Mark||\".  Create a dictionary for the following symbols where the symbol is the key and value is the token:\n",
    "- Period ( . )\n",
    "- Comma ( , )\n",
    "- Quotation Mark ( \" )\n",
    "- Semicolon ( ; )\n",
    "- Exclamation mark ( ! )\n",
    "- Question mark ( ? )\n",
    "- Left Parentheses ( ( )\n",
    "- Right Parentheses ( ) )\n",
    "- Dash ( -- )\n",
    "- Return ( \\n )\n",
    "\n",
    "This dictionary will be used to token the symbols and add the delimiter (space) around it.  This separates the symbols as it's own word, making it easier for the neural network to predict on the next word. Make sure you don't use a token that could be confused as a word. Instead of using the token \"dash\", try using something like \"||dash||\"."
   ]
  },
  {
   "cell_type": "code",
   "execution_count": 10,
   "metadata": {
    "collapsed": false,
    "deletable": true,
    "editable": true
   },
   "outputs": [
    {
     "name": "stdout",
     "output_type": "stream",
     "text": [
      "Tests Passed\n"
     ]
    }
   ],
   "source": [
    "def token_lookup():\n",
    "    \"\"\"\n",
    "    Generate a dict to turn punctuation into a token.\n",
    "    :return: Tokenize dictionary where the key is the punctuation and the value is the token\n",
    "    \"\"\"\n",
    "    # TODO: Implement Function\n",
    "        \n",
    "    # Tokenize dictionary\n",
    "    # key   = punctuation e.g. \"!\"  \n",
    "    # value = token       e.g. \"||Exclamation_Mark||\"\n",
    "    symbols_dict = {'.':'||Period||', \n",
    "                    ',':\"||Comma||\", \n",
    "                    '\"':\"||Quotation_Mark||\", \n",
    "                    ';':\"||Semicolon||\", \n",
    "                    '!':\"||Exclamation_Mark||\", \n",
    "                    '?':\"||Question_Mark||\", \n",
    "                    '(':\"||Left_Parentheses||\", \n",
    "                    ')':\"||Right_Parentheses||\", \n",
    "                    '--':\"||Dash||\", \n",
    "                    '\\n':\"||Return||\"}\n",
    "    \n",
    "    return symbols_dict\n",
    "\n",
    "\"\"\"\n",
    "DON'T MODIFY ANYTHING IN THIS CELL THAT IS BELOW THIS LINE\n",
    "\"\"\"\n",
    "tests.test_tokenize(token_lookup)"
   ]
  },
  {
   "cell_type": "markdown",
   "metadata": {
    "deletable": true,
    "editable": true
   },
   "source": [
    "## Preprocess all the data and save it\n",
    "Running the code cell below will preprocess all the data and save it to file."
   ]
  },
  {
   "cell_type": "code",
   "execution_count": 11,
   "metadata": {
    "collapsed": false,
    "deletable": true,
    "editable": true
   },
   "outputs": [],
   "source": [
    "\"\"\"\n",
    "DON'T MODIFY ANYTHING IN THIS CELL\n",
    "\"\"\"\n",
    "# Preprocess Training, Validation, and Testing Data\n",
    "helper.preprocess_and_save_data(data_dir, token_lookup, create_lookup_tables)"
   ]
  },
  {
   "cell_type": "markdown",
   "metadata": {
    "deletable": true,
    "editable": true
   },
   "source": [
    "# Check Point\n",
    "This is your first checkpoint. If you ever decide to come back to this notebook or have to restart the notebook, you can start from here. The preprocessed data has been saved to disk."
   ]
  },
  {
   "cell_type": "code",
   "execution_count": 12,
   "metadata": {
    "collapsed": false,
    "deletable": true,
    "editable": true
   },
   "outputs": [],
   "source": [
    "\"\"\"\n",
    "DON'T MODIFY ANYTHING IN THIS CELL\n",
    "\"\"\"\n",
    "import helper\n",
    "import numpy as np\n",
    "import problem_unittests as tests\n",
    "\n",
    "int_text, vocab_to_int, int_to_vocab, token_dict = helper.load_preprocess()"
   ]
  },
  {
   "cell_type": "markdown",
   "metadata": {
    "deletable": true,
    "editable": true
   },
   "source": [
    "## Build the Neural Network\n",
    "You'll build the components necessary to build a RNN by implementing the following functions below:\n",
    "- get_inputs\n",
    "- get_init_cell\n",
    "- get_embed\n",
    "- build_rnn\n",
    "- build_nn\n",
    "- get_batches\n",
    "\n",
    "### Check the Version of TensorFlow and Access to GPU"
   ]
  },
  {
   "cell_type": "code",
   "execution_count": 13,
   "metadata": {
    "collapsed": false,
    "deletable": true,
    "editable": true
   },
   "outputs": [
    {
     "name": "stdout",
     "output_type": "stream",
     "text": [
      "TensorFlow Version: 1.0.0\n",
      "Default GPU Device: /gpu:0\n"
     ]
    }
   ],
   "source": [
    "\"\"\"\n",
    "DON'T MODIFY ANYTHING IN THIS CELL\n",
    "\"\"\"\n",
    "from distutils.version import LooseVersion\n",
    "import warnings\n",
    "import tensorflow as tf\n",
    "\n",
    "# Check TensorFlow Version\n",
    "assert LooseVersion(tf.__version__) >= LooseVersion('1.0'), 'Please use TensorFlow version 1.0 or newer'\n",
    "print('TensorFlow Version: {}'.format(tf.__version__))\n",
    "\n",
    "# Check for a GPU\n",
    "if not tf.test.gpu_device_name():\n",
    "    warnings.warn('No GPU found. Please use a GPU to train your neural network.')\n",
    "else:\n",
    "    print('Default GPU Device: {}'.format(tf.test.gpu_device_name()))"
   ]
  },
  {
   "cell_type": "markdown",
   "metadata": {
    "deletable": true,
    "editable": true
   },
   "source": [
    "### Input\n",
    "Implement the `get_inputs()` function to create TF Placeholders for the Neural Network.  It should create the following placeholders:\n",
    "- Input text placeholder named \"input\" using the [TF Placeholder](https://www.tensorflow.org/api_docs/python/tf/placeholder) `name` parameter.\n",
    "- Targets placeholder\n",
    "- Learning Rate placeholder\n",
    "\n",
    "Return the placeholders in the following the tuple `(Input, Targets, LearingRate)`"
   ]
  },
  {
   "cell_type": "code",
   "execution_count": 14,
   "metadata": {
    "collapsed": false,
    "deletable": true,
    "editable": true
   },
   "outputs": [
    {
     "name": "stdout",
     "output_type": "stream",
     "text": [
      "Tests Passed\n"
     ]
    }
   ],
   "source": [
    "def get_inputs():\n",
    "    \"\"\"\n",
    "    Create TF Placeholders for input, targets, and learning rate.\n",
    "    :return: Tuple (input, targets, learning rate)\n",
    "    \"\"\"\n",
    "    # TODO: Implement Function\n",
    "    \n",
    "    # TF wants 2D not 1D so we have [None, None] not just [None]\n",
    "    inputs = tf.placeholder(tf.int32, [None, None], name=\"input\")  \n",
    "    \n",
    "    targets = tf.placeholder(tf.int32, [None, None], name='targets')\n",
    "        \n",
    "    learning_rate = tf.placeholder(tf.float32, name='learning_rate') #grrrrrrrrr <-- make sure always float...!\n",
    "    \n",
    "    return inputs, targets, learning_rate\n",
    "\n",
    "\n",
    "\"\"\"\n",
    "DON'T MODIFY ANYTHING IN THIS CELL THAT IS BELOW THIS LINE\n",
    "\"\"\"\n",
    "tests.test_get_inputs(get_inputs)"
   ]
  },
  {
   "cell_type": "markdown",
   "metadata": {
    "deletable": true,
    "editable": true
   },
   "source": [
    "### Build RNN Cell and Initialize\n",
    "Stack one or more [`BasicLSTMCells`](https://www.tensorflow.org/api_docs/python/tf/contrib/rnn/BasicLSTMCell) in a [`MultiRNNCell`](https://www.tensorflow.org/api_docs/python/tf/contrib/rnn/MultiRNNCell).\n",
    "- The Rnn size should be set using `rnn_size`\n",
    "- Initalize Cell State using the MultiRNNCell's [`zero_state()`](https://www.tensorflow.org/api_docs/python/tf/contrib/rnn/MultiRNNCell#zero_state) function\n",
    "    - Apply the name \"initial_state\" to the initial state using [`tf.identity()`](https://www.tensorflow.org/api_docs/python/tf/identity)\n",
    "\n",
    "Return the cell and initial state in the following tuple `(Cell, InitialState)`"
   ]
  },
  {
   "cell_type": "code",
   "execution_count": 72,
   "metadata": {
    "collapsed": true,
    "deletable": true,
    "editable": true
   },
   "outputs": [],
   "source": [
    "#Params for tuning\n",
    "\n",
    "# Since keep_prob is a scalar (a 0-dimensional tensor), you shouldn't provide a size to tf.placeholder\n",
    "keep_prob = 0.6\n",
    "lstm_layers = 1"
   ]
  },
  {
   "cell_type": "code",
   "execution_count": 73,
   "metadata": {
    "collapsed": false,
    "deletable": true,
    "editable": true
   },
   "outputs": [
    {
     "name": "stdout",
     "output_type": "stream",
     "text": [
      "Tests Passed\n"
     ]
    }
   ],
   "source": [
    "def get_init_cell(batch_size, rnn_size):\n",
    "    \"\"\"\n",
    "    Create an RNN Cell and initialize it.\n",
    "    :param batch_size: Size of batches\n",
    "    :param rnn_size: Size of RNNs\n",
    "    :return: Tuple (cell, initialize state)\n",
    "    \"\"\"\n",
    "    # TODO: Implement Function\n",
    "    \n",
    "    #basic LSTM cell (ref: Senitment notebook.ipynb)\n",
    "    lstm = tf.contrib.rnn.BasicLSTMCell(rnn_size)\n",
    "    \n",
    "    # Add dropout to the cell\n",
    "    drop = tf.contrib.rnn.DropoutWrapper(lstm, output_keep_prob=keep_prob)\n",
    "    \n",
    "    # Stack up multiple LSTM layers, for deep learning\n",
    "    # simple way to create multiple layers of LSTM cells \n",
    "    cell = tf.contrib.rnn.MultiRNNCell([drop] * lstm_layers)\n",
    "        \n",
    "    # Getting an initial state of all zeros\n",
    "    initial_state = cell.zero_state(batch_size, tf.float32)\n",
    "    \n",
    "    # Apply the name \"initial_state\" to the initial state using tf.identity()\n",
    "    state = tf.identity(initial_state, name = \"initial_state\")\n",
    "    \n",
    "    # return the stack of cells and the initial state\n",
    "    return cell, state\n",
    "\n",
    "\n",
    "\"\"\"\n",
    "DON'T MODIFY ANYTHING IN THIS CELL THAT IS BELOW THIS LINE\n",
    "\"\"\"\n",
    "tests.test_get_init_cell(get_init_cell)"
   ]
  },
  {
   "cell_type": "markdown",
   "metadata": {
    "deletable": true,
    "editable": true
   },
   "source": [
    "### Word Embedding\n",
    "Apply embedding to `input_data` using TensorFlow.  Return the embedded sequence."
   ]
  },
  {
   "cell_type": "code",
   "execution_count": 74,
   "metadata": {
    "collapsed": false,
    "deletable": true,
    "editable": true
   },
   "outputs": [
    {
     "name": "stdout",
     "output_type": "stream",
     "text": [
      "Tests Passed\n"
     ]
    }
   ],
   "source": [
    "def get_embed(input_data, vocab_size, embed_dim):\n",
    "    \"\"\"\n",
    "    Create embedding for <input_data>.\n",
    "    :param input_data: TF placeholder for text input.\n",
    "    :param vocab_size: Number of words in vocabulary.\n",
    "    :param embed_dim: Number of embedding dimensions\n",
    "    :return: Embedded input.\n",
    "    \"\"\"\n",
    "    # TODO: Implement Function\n",
    "    \n",
    "    # len(int_to_vocab) 6779, shows a smallish vocabulary, but inefficient to one-hot encode classes (see word2vec)\n",
    "    # so use embedding layer as a lookup (no need to multiply)\n",
    "    # https://www.youtube.com/watch?v=nirSPnZfEIw&feature=youtu.be&t=2m38s\n",
    "    \n",
    "    # Size of the embedding vectors (number of units in the embedding layer)\n",
    "    #tf.random_uniform(shape, minval=0, maxval=None, \n",
    "    embedding = tf.Variable(tf.truncated_normal((vocab_size, embed_dim), stddev=0.20)) #gives a nice gradual drop\n",
    "    \n",
    "    ###### ALTERNATIVE\n",
    "    # if we want to truncate the initial embeddings outside the stdv range:\n",
    "    # The generated values follow a normal distribution with specified mean and standard deviation, \n",
    "    # except that values whose magnitude is more than 2 standard deviations from the mean are dropped and re-picked\n",
    "    #embedding = tf.Variable(tf.random_uniform((vocab_size, embed_dim), -1.0, 1.0))\n",
    "\n",
    "    # This function takes the embedding matrix and an input tensor, such as the review vectors. \n",
    "    # Then, it'll return another tensor with the embedded vectors. \n",
    "    # So, if the embedding layer as 200 units, the function will return a tensor with size [batch_size, 200].\n",
    "    embed = tf.nn.embedding_lookup(embedding, input_data)\n",
    "    \n",
    "    \n",
    "    return embed\n",
    "\n",
    "\n",
    "\"\"\"\n",
    "DON'T MODIFY ANYTHING IN THIS CELL THAT IS BELOW THIS LINE\n",
    "\"\"\"\n",
    "tests.test_get_embed(get_embed)"
   ]
  },
  {
   "cell_type": "markdown",
   "metadata": {
    "deletable": true,
    "editable": true
   },
   "source": [
    "### Build RNN\n",
    "You created a RNN Cell in the `get_init_cell()` function.  Time to use the cell to create a RNN.\n",
    "- Build the RNN using the [`tf.nn.dynamic_rnn()`](https://www.tensorflow.org/api_docs/python/tf/nn/dynamic_rnn)\n",
    " - Apply the name \"final_state\" to the final state using [`tf.identity()`](https://www.tensorflow.org/api_docs/python/tf/identity)\n",
    "\n",
    "Return the outputs and final_state state in the following tuple `(Outputs, FinalState)` "
   ]
  },
  {
   "cell_type": "code",
   "execution_count": 75,
   "metadata": {
    "collapsed": false,
    "deletable": true,
    "editable": true
   },
   "outputs": [
    {
     "name": "stdout",
     "output_type": "stream",
     "text": [
      "Tests Passed\n"
     ]
    }
   ],
   "source": [
    "def build_rnn(cell, inputs):\n",
    "    \"\"\"\n",
    "    Create a RNN using a RNN Cell\n",
    "    :param cell: RNN Cell\n",
    "    :param inputs: Input text data\n",
    "    :return: Tuple (Outputs, Final State)\n",
    "    \"\"\"\n",
    "    # TODO: Implement Function\n",
    "    \n",
    "    #Use tf.nn.dynamic_rnn to add the forward pass through the RNN. \n",
    "    # Remember that we're actually passing in vectors from the embedding layer\n",
    "    \n",
    "    # initial_state is the cell state that is passed between the hidden layers in successive time steps. \n",
    "    # tf.nn.dynamic_rnn takes care of most of the work for us. \n",
    "    # We pass in our cell and the input to the cell, then it does the unrolling and everything else for us. \n",
    "    # It returns outputs for each time step and the final_state of the hidden layer.\n",
    "\n",
    "\n",
    "    # We want to predict the next word, so we want to use all the outputs\n",
    "    # Creates a recurrent neural network specified by RNNCell cell.\n",
    "    outputs, final_state = tf.nn.dynamic_rnn(cell, inputs, dtype = tf.float32)\n",
    "\n",
    "    final = tf.identity(final_state, name = \"final_state\")\n",
    "\n",
    "    return outputs, final\n",
    "\n",
    "\n",
    "\"\"\"\n",
    "DON'T MODIFY ANYTHING IN THIS CELL THAT IS BELOW THIS LINE\n",
    "\"\"\"\n",
    "tests.test_build_rnn(build_rnn)"
   ]
  },
  {
   "cell_type": "markdown",
   "metadata": {
    "deletable": true,
    "editable": true
   },
   "source": [
    "### Build the Neural Network\n",
    "Apply the functions you implemented above to:\n",
    "- Apply embedding to `input_data` using your `get_embed(input_data, vocab_size, embed_dim)` function.\n",
    "- Build RNN using `cell` and your `build_rnn(cell, inputs)` function.\n",
    "- Apply a fully connected layer with a linear activation and `vocab_size` as the number of outputs.\n",
    "\n",
    "Return the logits and final state in the following tuple (Logits, FinalState) "
   ]
  },
  {
   "cell_type": "code",
   "execution_count": 76,
   "metadata": {
    "collapsed": false,
    "deletable": true,
    "editable": true
   },
   "outputs": [
    {
     "name": "stdout",
     "output_type": "stream",
     "text": [
      "Tests Passed\n"
     ]
    }
   ],
   "source": [
    "def build_nn(cell, rnn_size, input_data, vocab_size):\n",
    "    \"\"\"\n",
    "    Build part of the neural network\n",
    "    :param cell: RNN cell\n",
    "    :param rnn_size: Size of rnns\n",
    "    :param input_data: Input data\n",
    "    :param vocab_size: Vocabulary size\n",
    "    :return: Tuple (Logits, FinalState)\n",
    "    \"\"\"\n",
    "    # TODO: Implement Function\n",
    "    # apply embedding (dimensions = rnn_size)\n",
    "    embeddings = get_embed(input_data, vocab_size, rnn_size)\n",
    "    \n",
    "    # build the rnn\n",
    "    output, final_state = build_rnn(cell, embeddings)    \n",
    "    \n",
    "    #logits or weights :)\n",
    "    # representing a fully connected weight matrix, \n",
    "    # which is multiplied by the inputs to produce a Tensor of hidden units\n",
    "    # Apply a fully connected layer with a linear activation and `vocab_size` as the number of outputs\n",
    "\n",
    "    # set activation to tanh? default is ReLU just linear\n",
    "    # set normalizer to batch_norm? Otherwise just biases applied\n",
    "    # set weights_initializer to: Xavier Glorot and Yoshua Bengio (2010): Understanding the difficulty \n",
    "    #              of training deep feedforward  neural networks. International conference on artificial \n",
    "    #              intelligence and statistics.\n",
    "    \n",
    "    # tf.nn.tanh - https://www.tensorflow.org/api_docs/python/tf/tanh\n",
    "    # predictions = tf.contrib.layers.fully_connected(cell, 1, activation_fn=tf.sigmoid)\n",
    "    # output need to match our total vocab, as could be any of them :)\n",
    "\n",
    "                                                    #weights_initializer = tf.truncated_normal_initializer(stddev=0.1), \n",
    "                                                    #biases_initializer=tf.zeros_initializer())\n",
    "    \n",
    "    predictions = tf.contrib.layers.fully_connected(output, \n",
    "                                                    vocab_size,\n",
    "                                                    activation_fn=None, #tf.nn.tanh <-- slows the conversion by 40%\n",
    "                                                    weights_initializer=tf.contrib.layers.xavier_initializer_conv2d(uniform=True, \n",
    "                                                                                                                    seed=None, \n",
    "                                                                                                                    dtype=tf.float32))\n",
    "    \n",
    "    \n",
    "    return predictions, final_state\n",
    "\n",
    "\n",
    "\"\"\"\n",
    "DON'T MODIFY ANYTHING IN THIS CELL THAT IS BELOW THIS LINE\n",
    "\"\"\"\n",
    "tests.test_build_nn(build_nn)"
   ]
  },
  {
   "cell_type": "markdown",
   "metadata": {
    "deletable": true,
    "editable": true
   },
   "source": [
    "### Batches\n",
    "Implement `get_batches` to create batches of input and targets using `int_text`.  The batches should be a Numpy array with the shape `(number of batches, 2, batch size, sequence length)`. Each batch contains two elements:\n",
    "- The first element is a single batch of **input** with the shape `[batch size, sequence length]`\n",
    "- The second element is a single batch of **targets** with the shape `[batch size, sequence length]`\n",
    "\n",
    "If you can't fill the last batch with enough data, drop the last batch.\n",
    "\n",
    "For exmple, `get_batches([1, 2, 3, 4, 5, 6, 7, 8, 9, 10, 11, 12, 13, 14, 15], 2, 3)` would return a Numpy array of the following:\n",
    "```\n",
    "[\n",
    "  # First Batch\n",
    "  [\n",
    "    # Batch of Input\n",
    "    [[ 1  2  3], [ 7  8  9]],\n",
    "    # Batch of targets\n",
    "    [[ 2  3  4], [ 8  9 10]]\n",
    "  ],\n",
    " \n",
    "  # Second Batch\n",
    "  [\n",
    "    # Batch of Input\n",
    "    [[ 4  5  6], [10 11 12]],\n",
    "    # Batch of targets\n",
    "    [[ 5  6  7], [11 12 13]]\n",
    "  ]\n",
    "]\n",
    "```"
   ]
  },
  {
   "cell_type": "code",
   "execution_count": 77,
   "metadata": {
    "collapsed": false,
    "deletable": true,
    "editable": true
   },
   "outputs": [
    {
     "name": "stdout",
     "output_type": "stream",
     "text": [
      "Tests Passed\n"
     ]
    }
   ],
   "source": [
    "def get_batches(int_text, batch_size, seq_length):\n",
    "    \"\"\"\n",
    "    Return batches of input and target\n",
    "    :param int_text: Text with the words replaced by their ids\n",
    "    :param batch_size: The size of batch\n",
    "    :param seq_length: The length of sequence\n",
    "    :return: Batches as a Numpy array\n",
    "    \"\"\"\n",
    "    # TODO: Implement Function\n",
    "    \n",
    "    # Mat's video - https://nd101.slack.com/files/mat/F4P1VE8SY/sequence_batches.mp4\n",
    "    # based on batching in Sentiment_RNN_Solution.ipynb\n",
    "    #(1)So sequence is the text....\n",
    "    #(2)Batch size is how many sequences we want to train on simultaniously\n",
    "    #(3)sq_length is number of inputs, so we can keep data together...\n",
    "    \n",
    "    # obviously taget is just what we want to achieve...from give input, so easy to achieve with an off set of +1\n",
    "    \n",
    "    \n",
    "    n_batches = int(len(int_text) / (batch_size * seq_length))\n",
    "\n",
    "    # Drop the last few characters to make only full batches\n",
    "    \n",
    "    #The first element is a single batch of input with the shape [batch size, sequence length]\n",
    "    xdata = np.array(int_text[: n_batches * batch_size * seq_length])\n",
    "\n",
    "    \n",
    "    #The second element is a single batch of targets with the shape [batch size, sequence length]\n",
    "    ydata = np.array(int_text[1: n_batches * batch_size * seq_length + 1])\n",
    "\n",
    "    x_batches = np.split(xdata.reshape(batch_size, -1), n_batches, 1)\n",
    "    #print(x_batches)\n",
    "    y_batches = np.split(ydata.reshape(batch_size, -1), n_batches, 1)\n",
    "    #print(y_batches)\n",
    "    \n",
    "    return np.array(list(zip(x_batches, y_batches)))\n",
    "    \n",
    "\"\"\"\n",
    "DON'T MODIFY ANYTHING IN THIS CELL THAT IS BELOW THIS LINE\n",
    "\"\"\"\n",
    "tests.test_get_batches(get_batches)"
   ]
  },
  {
   "cell_type": "markdown",
   "metadata": {
    "deletable": true,
    "editable": true
   },
   "source": [
    "## Neural Network Training\n",
    "### Hyperparameters\n",
    "Tune the following parameters:\n",
    "\n",
    "- Set `num_epochs` to the number of epochs.\n",
    "- Set `batch_size` to the batch size.\n",
    "- Set `rnn_size` to the size of the RNNs.\n",
    "- Set `seq_length` to the length of sequence.\n",
    "- Set `learning_rate` to the learning rate.\n",
    "- Set `show_every_n_batches` to the number of batches the neural network should print progress."
   ]
  },
  {
   "cell_type": "code",
   "execution_count": 91,
   "metadata": {
    "collapsed": true,
    "deletable": true,
    "editable": true
   },
   "outputs": [],
   "source": [
    "# Number of Epochs\n",
    "num_epochs = 88 #or we start to over fit\n",
    "# Batch Size\n",
    "batch_size = 256 # swap to lower\n",
    "# RNN Size\n",
    "rnn_size = 512\n",
    "# Sequence Length\n",
    "seq_length = 20\n",
    "# Learning Rate\n",
    "learning_rate = 0.01\n",
    "# Show stats for every n number of batches\n",
    "show_every_n_batches = int(len(int_text) / (batch_size * seq_length)) \n",
    "\n",
    "\n",
    "\"\"\"\n",
    "DON'T MODIFY ANYTHING IN THIS CELL THAT IS BELOW THIS LINE\n",
    "\"\"\"\n",
    "save_dir = './save'"
   ]
  },
  {
   "cell_type": "markdown",
   "metadata": {
    "deletable": true,
    "editable": true
   },
   "source": [
    "### Build the Graph\n",
    "Build the graph using the neural network you implemented."
   ]
  },
  {
   "cell_type": "code",
   "execution_count": 92,
   "metadata": {
    "collapsed": false,
    "deletable": true,
    "editable": true
   },
   "outputs": [],
   "source": [
    "\"\"\"\n",
    "DON'T MODIFY ANYTHING IN THIS CELL\n",
    "\"\"\"\n",
    "from tensorflow.contrib import seq2seq\n",
    "\n",
    "train_graph = tf.Graph()\n",
    "with train_graph.as_default():\n",
    "    vocab_size = len(int_to_vocab)\n",
    "    input_text, targets, lr = get_inputs()\n",
    "    input_data_shape = tf.shape(input_text)\n",
    "    cell, initial_state = get_init_cell(input_data_shape[0], rnn_size)\n",
    "    logits, final_state = build_nn(cell, rnn_size, input_text, vocab_size)\n",
    "\n",
    "    # Probabilities for generating words\n",
    "    probs = tf.nn.softmax(logits, name='probs')\n",
    "\n",
    "    # Loss function\n",
    "    cost = seq2seq.sequence_loss(\n",
    "        logits,\n",
    "        targets,\n",
    "        tf.ones([input_data_shape[0], input_data_shape[1]]))\n",
    "\n",
    "    # Optimizer\n",
    "    optimizer = tf.train.AdamOptimizer(lr)\n",
    "\n",
    "    # Gradient Clipping\n",
    "    gradients = optimizer.compute_gradients(cost)\n",
    "    capped_gradients = [(tf.clip_by_value(grad, -1., 1.), var) for grad, var in gradients]\n",
    "    train_op = optimizer.apply_gradients(capped_gradients)"
   ]
  },
  {
   "cell_type": "markdown",
   "metadata": {
    "deletable": true,
    "editable": true
   },
   "source": [
    "## Train\n",
    "Train the neural network on the preprocessed data.  If you have a hard time getting a good loss, check the [forms](https://discussions.udacity.com/) to see if anyone is having the same problem."
   ]
  },
  {
   "cell_type": "code",
   "execution_count": 93,
   "metadata": {
    "collapsed": false,
    "deletable": true,
    "editable": true
   },
   "outputs": [
    {
     "name": "stdout",
     "output_type": "stream",
     "text": [
      "Epoch   0 Batch    0/13   train_loss = 8.820\n",
      "Epoch   1 Batch    0/13   train_loss = 5.680\n",
      "Epoch   2 Batch    0/13   train_loss = 5.015\n",
      "Epoch   3 Batch    0/13   train_loss = 4.641\n",
      "Epoch   4 Batch    0/13   train_loss = 4.321\n",
      "Epoch   5 Batch    0/13   train_loss = 4.067\n",
      "Epoch   6 Batch    0/13   train_loss = 3.826\n",
      "Epoch   7 Batch    0/13   train_loss = 3.619\n",
      "Epoch   8 Batch    0/13   train_loss = 3.377\n",
      "Epoch   9 Batch    0/13   train_loss = 3.170\n",
      "Epoch  10 Batch    0/13   train_loss = 2.988\n",
      "Epoch  11 Batch    0/13   train_loss = 2.842\n",
      "Epoch  12 Batch    0/13   train_loss = 2.680\n",
      "Epoch  13 Batch    0/13   train_loss = 2.561\n",
      "Epoch  14 Batch    0/13   train_loss = 2.483\n",
      "Epoch  15 Batch    0/13   train_loss = 2.388\n",
      "Epoch  16 Batch    0/13   train_loss = 2.224\n",
      "Epoch  17 Batch    0/13   train_loss = 2.126\n",
      "Epoch  18 Batch    0/13   train_loss = 2.014\n",
      "Epoch  19 Batch    0/13   train_loss = 1.908\n",
      "Epoch  20 Batch    0/13   train_loss = 1.813\n",
      "Epoch  21 Batch    0/13   train_loss = 1.732\n",
      "Epoch  22 Batch    0/13   train_loss = 1.653\n",
      "Epoch  23 Batch    0/13   train_loss = 1.570\n",
      "Epoch  24 Batch    0/13   train_loss = 1.509\n",
      "Epoch  25 Batch    0/13   train_loss = 1.411\n",
      "Epoch  26 Batch    0/13   train_loss = 1.381\n",
      "Epoch  27 Batch    0/13   train_loss = 1.339\n",
      "Epoch  28 Batch    0/13   train_loss = 1.270\n",
      "Epoch  29 Batch    0/13   train_loss = 1.212\n",
      "Epoch  30 Batch    0/13   train_loss = 1.187\n",
      "Epoch  31 Batch    0/13   train_loss = 1.088\n",
      "Epoch  32 Batch    0/13   train_loss = 1.054\n",
      "Epoch  33 Batch    0/13   train_loss = 1.018\n",
      "Epoch  34 Batch    0/13   train_loss = 0.988\n",
      "Epoch  35 Batch    0/13   train_loss = 0.949\n",
      "Epoch  36 Batch    0/13   train_loss = 0.946\n",
      "Epoch  37 Batch    0/13   train_loss = 0.896\n",
      "Epoch  38 Batch    0/13   train_loss = 0.861\n",
      "Epoch  39 Batch    0/13   train_loss = 0.822\n",
      "Epoch  40 Batch    0/13   train_loss = 0.800\n",
      "Epoch  41 Batch    0/13   train_loss = 0.775\n",
      "Epoch  42 Batch    0/13   train_loss = 0.767\n",
      "Epoch  43 Batch    0/13   train_loss = 0.716\n",
      "Epoch  44 Batch    0/13   train_loss = 0.742\n",
      "Epoch  45 Batch    0/13   train_loss = 0.701\n",
      "Epoch  46 Batch    0/13   train_loss = 0.677\n",
      "Epoch  47 Batch    0/13   train_loss = 0.686\n",
      "Epoch  48 Batch    0/13   train_loss = 0.674\n",
      "Epoch  49 Batch    0/13   train_loss = 0.656\n",
      "Epoch  50 Batch    0/13   train_loss = 0.642\n",
      "Epoch  51 Batch    0/13   train_loss = 0.698\n",
      "Epoch  52 Batch    0/13   train_loss = 0.709\n",
      "Epoch  53 Batch    0/13   train_loss = 0.678\n",
      "Epoch  54 Batch    0/13   train_loss = 0.646\n",
      "Epoch  55 Batch    0/13   train_loss = 0.616\n",
      "Epoch  56 Batch    0/13   train_loss = 0.613\n",
      "Epoch  57 Batch    0/13   train_loss = 0.593\n",
      "Epoch  58 Batch    0/13   train_loss = 0.561\n",
      "Epoch  59 Batch    0/13   train_loss = 0.544\n",
      "Epoch  60 Batch    0/13   train_loss = 0.543\n",
      "Epoch  61 Batch    0/13   train_loss = 0.538\n",
      "Epoch  62 Batch    0/13   train_loss = 0.555\n",
      "Epoch  63 Batch    0/13   train_loss = 0.533\n",
      "Epoch  64 Batch    0/13   train_loss = 0.530\n",
      "Epoch  65 Batch    0/13   train_loss = 0.534\n",
      "Epoch  66 Batch    0/13   train_loss = 0.503\n",
      "Epoch  67 Batch    0/13   train_loss = 0.505\n",
      "Epoch  68 Batch    0/13   train_loss = 0.496\n",
      "Epoch  69 Batch    0/13   train_loss = 0.488\n",
      "Epoch  70 Batch    0/13   train_loss = 0.473\n",
      "Epoch  71 Batch    0/13   train_loss = 0.487\n",
      "Epoch  72 Batch    0/13   train_loss = 0.481\n",
      "Epoch  73 Batch    0/13   train_loss = 0.486\n",
      "Epoch  74 Batch    0/13   train_loss = 0.471\n",
      "Epoch  75 Batch    0/13   train_loss = 0.460\n",
      "Epoch  76 Batch    0/13   train_loss = 0.475\n",
      "Epoch  77 Batch    0/13   train_loss = 0.495\n",
      "Epoch  78 Batch    0/13   train_loss = 0.494\n",
      "Epoch  79 Batch    0/13   train_loss = 0.481\n",
      "Epoch  80 Batch    0/13   train_loss = 0.480\n",
      "Epoch  81 Batch    0/13   train_loss = 0.472\n",
      "Epoch  82 Batch    0/13   train_loss = 0.472\n",
      "Epoch  83 Batch    0/13   train_loss = 0.479\n",
      "Epoch  84 Batch    0/13   train_loss = 0.470\n",
      "Epoch  85 Batch    0/13   train_loss = 0.489\n",
      "Epoch  86 Batch    0/13   train_loss = 0.458\n",
      "Epoch  87 Batch    0/13   train_loss = 0.477\n",
      "Model Trained and Saved\n"
     ]
    }
   ],
   "source": [
    "\"\"\"\n",
    "DON'T MODIFY ANYTHING IN THIS CELL\n",
    "\"\"\"\n",
    "batches = get_batches(int_text, batch_size, seq_length)\n",
    "\n",
    "with tf.Session(graph=train_graph) as sess:\n",
    "    sess.run(tf.global_variables_initializer())\n",
    "\n",
    "    for epoch_i in range(num_epochs):\n",
    "        state = sess.run(initial_state, {input_text: batches[0][0]})\n",
    "\n",
    "        for batch_i, (x, y) in enumerate(batches):\n",
    "            feed = {\n",
    "                input_text: x,\n",
    "                targets: y,\n",
    "                initial_state: state,\n",
    "                lr: learning_rate}\n",
    "            train_loss, state, _ = sess.run([cost, final_state, train_op], feed)\n",
    "\n",
    "            # Show every <show_every_n_batches> batches\n",
    "            if (epoch_i * len(batches) + batch_i) % show_every_n_batches == 0:\n",
    "                print('Epoch {:>3} Batch {:>4}/{}   train_loss = {:.3f}'.format(\n",
    "                    epoch_i,\n",
    "                    batch_i,\n",
    "                    len(batches),\n",
    "                    train_loss))\n",
    "\n",
    "    # Save Model\n",
    "    saver = tf.train.Saver()\n",
    "    saver.save(sess, save_dir)\n",
    "    print('Model Trained and Saved')"
   ]
  },
  {
   "cell_type": "markdown",
   "metadata": {
    "deletable": true,
    "editable": true
   },
   "source": [
    "## Save Parameters\n",
    "Save `seq_length` and `save_dir` for generating a new TV script."
   ]
  },
  {
   "cell_type": "code",
   "execution_count": 94,
   "metadata": {
    "collapsed": false,
    "deletable": true,
    "editable": true
   },
   "outputs": [],
   "source": [
    "\"\"\"\n",
    "DON'T MODIFY ANYTHING IN THIS CELL\n",
    "\"\"\"\n",
    "# Save parameters for checkpoint\n",
    "helper.save_params((seq_length, save_dir))"
   ]
  },
  {
   "cell_type": "markdown",
   "metadata": {
    "deletable": true,
    "editable": true
   },
   "source": [
    "# Checkpoint"
   ]
  },
  {
   "cell_type": "code",
   "execution_count": 95,
   "metadata": {
    "collapsed": false,
    "deletable": true,
    "editable": true
   },
   "outputs": [],
   "source": [
    "\"\"\"\n",
    "DON'T MODIFY ANYTHING IN THIS CELL\n",
    "\"\"\"\n",
    "import tensorflow as tf\n",
    "import numpy as np\n",
    "import helper\n",
    "import problem_unittests as tests\n",
    "\n",
    "_, vocab_to_int, int_to_vocab, token_dict = helper.load_preprocess()\n",
    "seq_length, load_dir = helper.load_params()"
   ]
  },
  {
   "cell_type": "markdown",
   "metadata": {
    "deletable": true,
    "editable": true
   },
   "source": [
    "## Implement Generate Functions\n",
    "### Get Tensors\n",
    "Get tensors from `loaded_graph` using the function [`get_tensor_by_name()`](https://www.tensorflow.org/api_docs/python/tf/Graph#get_tensor_by_name).  Get the tensors using the following names:\n",
    "- \"input:0\"\n",
    "- \"initial_state:0\"\n",
    "- \"final_state:0\"\n",
    "- \"probs:0\"\n",
    "\n",
    "Return the tensors in the following tuple `(InputTensor, InitialStateTensor, FinalStateTensor, ProbsTensor)` "
   ]
  },
  {
   "cell_type": "code",
   "execution_count": 96,
   "metadata": {
    "collapsed": false,
    "deletable": true,
    "editable": true
   },
   "outputs": [
    {
     "name": "stdout",
     "output_type": "stream",
     "text": [
      "Tests Passed\n"
     ]
    }
   ],
   "source": [
    "def get_tensors(loaded_graph):\n",
    "    \"\"\"\n",
    "    Get input, initial state, final state, and probabilities tensor from <loaded_graph>\n",
    "    :param loaded_graph: TensorFlow graph loaded from file\n",
    "    :return: Tuple (InputTensor, InitialStateTensor, FinalStateTensor, ProbsTensor)\n",
    "    \"\"\"\n",
    "    # TODO: Implement Function\n",
    "    InputTensor = loaded_graph.get_tensor_by_name('input:0')\n",
    "    InitialStateTensor = loaded_graph.get_tensor_by_name('initial_state:0')\n",
    "    FinalStateTensor = loaded_graph.get_tensor_by_name('final_state:0')\n",
    "    ProbsTensor = loaded_graph.get_tensor_by_name('probs:0')\n",
    "    \n",
    "    return InputTensor, InitialStateTensor, FinalStateTensor, ProbsTensor\n",
    "\n",
    "\n",
    "\"\"\"\n",
    "DON'T MODIFY ANYTHING IN THIS CELL THAT IS BELOW THIS LINE\n",
    "\"\"\"\n",
    "tests.test_get_tensors(get_tensors)"
   ]
  },
  {
   "cell_type": "markdown",
   "metadata": {
    "deletable": true,
    "editable": true
   },
   "source": [
    "### Choose Word\n",
    "Implement the `pick_word()` function to select the next word using `probabilities`."
   ]
  },
  {
   "cell_type": "code",
   "execution_count": 97,
   "metadata": {
    "collapsed": false,
    "deletable": true,
    "editable": true
   },
   "outputs": [
    {
     "name": "stdout",
     "output_type": "stream",
     "text": [
      "Tests Passed\n"
     ]
    }
   ],
   "source": [
    "def pick_word(probabilities, int_to_vocab):\n",
    "    \"\"\"\n",
    "    Pick the next word in the generated text\n",
    "    :param probabilities: Probabilites of the next word\n",
    "    :param int_to_vocab: Dictionary of word ids as the keys and words as the values\n",
    "    :return: String of the predicted word\n",
    "    \"\"\"\n",
    "    # TODO: Implement Function\n",
    "    # ref: intro-to-rnns/Anna_KaRNNa.ipynb - we are choosing words not letters\n",
    "    \n",
    "    n_most_probable_words = 5 #[5..10]  to remove nonsensical words\n",
    "    \n",
    "    #reduce the dimensions\n",
    "    p = np.squeeze(probabilities)\n",
    "\n",
    "    #sort\n",
    "    p[np.argsort(p)[:-n_most_probable_words]] = 0.0\n",
    "    \n",
    "    # make it out of 1\n",
    "    p = p / np.sum(p)\n",
    "\n",
    "    #get a random word from our set of high probable words\n",
    "    c = np.random.choice(len(probabilities), 1, p=p)[0]\n",
    "    \n",
    "    #select the word from the dictionary\n",
    "    return int_to_vocab[c]\n",
    "\n",
    "\n",
    "\"\"\"\n",
    "DON'T MODIFY ANYTHING IN THIS CELL THAT IS BELOW THIS LINE\n",
    "\"\"\"\n",
    "tests.test_pick_word(pick_word)\n"
   ]
  },
  {
   "cell_type": "markdown",
   "metadata": {
    "deletable": true,
    "editable": true
   },
   "source": [
    "## Generate TV Script\n",
    "This will generate the TV script for you.  Set `gen_length` to the length of TV script you want to generate."
   ]
  },
  {
   "cell_type": "code",
   "execution_count": 98,
   "metadata": {
    "collapsed": false,
    "deletable": true,
    "editable": true
   },
   "outputs": [
    {
     "name": "stdout",
     "output_type": "stream",
     "text": [
      "moe_szyslak: or maybe it's groveling that works. eh, six of one.\n",
      "\n",
      "\n",
      "barflies:(hurt sigh) just ask your daughter to be a little about it?\n",
      "moe_szyslak: aw, that broad is powered by non-american workers die.\n",
      "moe_szyslak: no. not yet at\" look at ease?\"\n",
      "moe_szyslak: boy, ya remember that, so you can spit!\n",
      "\n",
      "\n",
      "lenny_leonard: hey, join the party!\" weekly reader star selection\" good things to make with a guess....\n",
      "football_announcer: touchdown! the insurance company pays off five thousand clams. i keep showing renee with the jay leno show?\n",
      "betty: uh, that's okay.\n",
      "homer_simpson: oh, right-- like this the neck i'm other day i got the bad guy.\n",
      "homer_simpson: and you're the greatest news involving multiple normal.\n",
      "ned_flanders: i got somethin' of course, i. your tolerance is too high.\n",
      "dejected_barfly:(a little coffee'll do a day a guy who fixes to fix all that stuff.\n",
      "duffman: duffman is it who does\n"
     ]
    }
   ],
   "source": [
    "gen_length = 200\n",
    "# homer_simpson, moe_szyslak, or Barney_Gumble\n",
    "prime_word = 'moe_szyslak'\n",
    "\n",
    "\"\"\"\n",
    "DON'T MODIFY ANYTHING IN THIS CELL THAT IS BELOW THIS LINE\n",
    "\"\"\"\n",
    "loaded_graph = tf.Graph()\n",
    "with tf.Session(graph=loaded_graph) as sess:\n",
    "    # Load saved model\n",
    "    loader = tf.train.import_meta_graph(load_dir + '.meta')\n",
    "    loader.restore(sess, load_dir)\n",
    "\n",
    "    # Get Tensors from loaded model\n",
    "    input_text, initial_state, final_state, probs = get_tensors(loaded_graph)\n",
    "\n",
    "    # Sentences generation setup\n",
    "    gen_sentences = [prime_word + ':']\n",
    "    prev_state = sess.run(initial_state, {input_text: np.array([[1]])})\n",
    "\n",
    "    # Generate sentences\n",
    "    for n in range(gen_length):\n",
    "        # Dynamic Input\n",
    "        dyn_input = [[vocab_to_int[word] for word in gen_sentences[-seq_length:]]]\n",
    "        dyn_seq_length = len(dyn_input[0])\n",
    "\n",
    "        # Get Prediction\n",
    "        probabilities, prev_state = sess.run(\n",
    "            [probs, final_state],\n",
    "            {input_text: dyn_input, initial_state: prev_state})\n",
    "        \n",
    "        pred_word = pick_word(probabilities[dyn_seq_length-1], int_to_vocab)\n",
    "\n",
    "        gen_sentences.append(pred_word)\n",
    "    \n",
    "    # Remove tokens\n",
    "    tv_script = ' '.join(gen_sentences)\n",
    "    for key, token in token_dict.items():\n",
    "        ending = ' ' if key in ['\\n', '(', '\"'] else ''\n",
    "        tv_script = tv_script.replace(' ' + token.lower(), key)\n",
    "    tv_script = tv_script.replace('\\n ', '\\n')\n",
    "    tv_script = tv_script.replace('( ', '(')\n",
    "        \n",
    "    print(tv_script)"
   ]
  },
  {
   "cell_type": "markdown",
   "metadata": {
    "deletable": true,
    "editable": true
   },
   "source": [
    "# The TV Script is Nonsensical\n",
    "It's ok if the TV script doesn't make any sense.  We trained on less than a megabyte of text.  In order to get good results, you'll have to use a smaller vocabulary or get more data.  Luckly there's more data!  As we mentioned in the begging of this project, this is a subset of [another dataset](https://www.kaggle.com/wcukierski/the-simpsons-by-the-data).  We didn't have you train on all the data, because that would take too long.  However, you are free to train your neural network on all the data.  After you complete the project, of course.\n",
    "# Submitting This Project\n",
    "When submitting this project, make sure to run all the cells before saving the notebook. Save the notebook file as \"dlnd_tv_script_generation.ipynb\" and save it as a HTML file under \"File\" -> \"Download as\". Include the \"helper.py\" and \"problem_unittests.py\" files in your submission."
   ]
  }
 ],
 "metadata": {
  "kernelspec": {
   "display_name": "Python 3",
   "language": "python",
   "name": "python3"
  },
  "language_info": {
   "codemirror_mode": {
    "name": "ipython",
    "version": 3
   },
   "file_extension": ".py",
   "mimetype": "text/x-python",
   "name": "python",
   "nbconvert_exporter": "python",
   "pygments_lexer": "ipython3",
   "version": "3.5.2"
  },
  "widgets": {
   "state": {},
   "version": "1.1.2"
  }
 },
 "nbformat": 4,
 "nbformat_minor": 0
}
